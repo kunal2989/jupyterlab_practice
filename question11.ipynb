{
 "cells": [
  {
   "cell_type": "markdown",
   "id": "48c8277d-2135-43a9-a550-cab6bd864033",
   "metadata": {},
   "source": [
    "# Kunal Dhir\n",
    "\n",
    "Notebook for assignment 7"
   ]
  },
  {
   "cell_type": "code",
   "execution_count": 1,
   "id": "474c4702-2f1e-4ba0-a358-9f19e21dd61e",
   "metadata": {},
   "outputs": [],
   "source": [
    "#Compute mean from a list\n",
    "\n",
    "def compute_mean(numbers_list):\n",
    "    mean = sum(numbers_list) / len(numbers_list)\n",
    "    return mean"
   ]
  },
  {
   "cell_type": "code",
   "execution_count": 2,
   "id": "161b5888-6055-4c8e-a2a4-90e66baa390b",
   "metadata": {},
   "outputs": [
    {
     "data": {
      "text/plain": [
       "5.0"
      ]
     },
     "execution_count": 2,
     "metadata": {},
     "output_type": "execute_result"
    }
   ],
   "source": [
    "compute_mean([2,4,6,8])"
   ]
  },
  {
   "cell_type": "markdown",
   "id": "5a49efa8-9b5e-4fbb-8e76-87990e62eb1a",
   "metadata": {},
   "source": [
    "The *compute_mean* function returns the mean from a list of numbers.\n",
    "\n",
    "$$\\bar\\chi= \\frac{\\chi_1 + \\chi_2 + \\cdot\\cdot\\cdot + \\chi_n}{n} = \\frac{1}{n}\\bigg( \\sum^{n}_{i=1}\\chi_i\\bigg) $$"
   ]
  }
 ],
 "metadata": {
  "kernelspec": {
   "display_name": "Python [conda env:base] *",
   "language": "python",
   "name": "conda-base-py"
  },
  "language_info": {
   "codemirror_mode": {
    "name": "ipython",
    "version": 3
   },
   "file_extension": ".py",
   "mimetype": "text/x-python",
   "name": "python",
   "nbconvert_exporter": "python",
   "pygments_lexer": "ipython3",
   "version": "3.12.2"
  }
 },
 "nbformat": 4,
 "nbformat_minor": 5
}
